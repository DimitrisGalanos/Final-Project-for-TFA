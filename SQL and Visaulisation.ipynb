{
 "cells": [
  {
   "cell_type": "code",
   "execution_count": 4,
   "metadata": {
    "id": "xnUEfLNZWunh"
   },
   "outputs": [],
   "source": [
    "import pandas as pd\n",
    "import numpy as np\n",
    "from sqlalchemy import create_engine"
   ]
  },
  {
   "cell_type": "markdown",
   "metadata": {
    "id": "u3Du9DU-Wuoi"
   },
   "source": [
    "# Part 3"
   ]
  },
  {
   "cell_type": "markdown",
   "metadata": {
    "id": "gV0Aq2_AWuoi"
   },
   "source": [
    "### Question 1:\n",
    "\n",
    "For 01-2009 through 06-2015, what hour of the day was the most popular to take a Yellow Taxi? The result should have 24 bins."
   ]
  },
  {
   "cell_type": "markdown",
   "metadata": {
    "id": "hBv9v8vaWuoi"
   },
   "source": [
    "### Answer:\n",
    "\n",
    "* Get hour column from Yellow_Taxi data and group them to count the number of trips. \n",
    "* Sort them by frequency\n",
    "* Select the first row to answer the question"
   ]
  },
  {
   "cell_type": "code",
   "execution_count": 8,
   "metadata": {
    "id": "-ZlMFUceWuoj"
   },
   "outputs": [],
   "source": [
    "from sqlalchemy import create_engine\n",
    "engine = create_engine('sqlite:////Users/rishabhsalwan/Downloads/Project Data/Project.db', echo=False)"
   ]
  },
  {
   "cell_type": "code",
   "execution_count": null,
   "metadata": {
    "id": "QMrgpr7OWuoj",
    "outputId": "caafdedf-77ae-4375-8461-4dcf128fa90f"
   },
   "outputs": [
    {
     "data": {
      "text/plain": [
       "[('19', 12312),\n",
       " ('18', 11976),\n",
       " ('20', 11341),\n",
       " ('21', 10920),\n",
       " ('22', 10769),\n",
       " ('14', 9973),\n",
       " ('17', 9940),\n",
       " ('12', 9583),\n",
       " ('23', 9547),\n",
       " ('13', 9541),\n",
       " ('15', 9294),\n",
       " ('09', 9195),\n",
       " ('11', 9112),\n",
       " ('08', 8918),\n",
       " ('10', 8806),\n",
       " ('16', 8322),\n",
       " ('00', 7721),\n",
       " ('07', 6940),\n",
       " ('01', 5760),\n",
       " ('02', 4317),\n",
       " ('06', 3979),\n",
       " ('03', 3114),\n",
       " ('04', 2175),\n",
       " ('05', 1917)]"
      ]
     },
     "execution_count": 16,
     "metadata": {},
     "output_type": "execute_result"
    }
   ],
   "source": [
    "rush_hour = engine.execute(\"\"\"select strftime(\"%H\",tpep_pickup_datetime) as Hours, count(strftime(\"%H\",tpep_pickup_datetime)) as Frequency \n",
    "                    from Yellow_Taxi\n",
    "                    group by Hours\n",
    "                    order by Frequency DESC\n",
    "                    \"\"\").fetchall()\n",
    "\n",
    "rush_hour"
   ]
  },
  {
   "cell_type": "code",
   "execution_count": null,
   "metadata": {
    "id": "b-Kw3QBYWuoj",
    "outputId": "44ef06df-0fe2-4e79-f82a-2b5a8752fbd0"
   },
   "outputs": [
    {
     "name": "stdout",
     "output_type": "stream",
     "text": [
      "The most busy hour of the day for yellow taxi cabs was 19:00 hours\n"
     ]
    }
   ],
   "source": [
    "print(f\"The most busy hour of the day for yellow taxi cabs was {rush_hour[0][0]}:00 hours\")"
   ]
  },
  {
   "cell_type": "markdown",
   "metadata": {
    "id": "Mb-f-lIeWuoj"
   },
   "source": [
    "### Question 2:\n",
    "\n",
    "For the same time frame, what day of the week was the most popular to take an Uber? The result should have 7 bins.\n"
   ]
  },
  {
   "cell_type": "markdown",
   "metadata": {
    "id": "GT-aMBUuWuok"
   },
   "source": [
    "### Answer:\n",
    "\n",
    "* Get pickup weekday column from Yellow_Taxi data and group them to count the trips. \n",
    "* Sort them by frequency\n",
    "* Select the first row to answer the question"
   ]
  },
  {
   "cell_type": "code",
   "execution_count": null,
   "metadata": {
    "id": "NYgX6KeFWuok",
    "outputId": "69083503-e2f9-43ef-d575-805e8457edec"
   },
   "outputs": [
    {
     "data": {
      "text/plain": [
       "[('5', 29894),\n",
       " ('6', 29360),\n",
       " ('4', 29090),\n",
       " ('3', 28101),\n",
       " ('2', 27292),\n",
       " ('0', 25603),\n",
       " ('1', 24438)]"
      ]
     },
     "execution_count": 19,
     "metadata": {},
     "output_type": "execute_result"
    }
   ],
   "source": [
    "from datetime import datetime\n",
    "\n",
    "uber_rush_day = engine.execute(\"\"\"select strftime(\"%w\",pickup_datetime) as Day, count(strftime(\"%w\",pickup_datetime)) as Frequency \n",
    "                    from Uber_new\n",
    "                    group by Day\n",
    "                    order by Frequency DESC\n",
    "                    \"\"\").fetchall()\n",
    "\n",
    "uber_rush_day\n"
   ]
  },
  {
   "cell_type": "code",
   "execution_count": null,
   "metadata": {
    "id": "RNMZSwE6Wuok",
    "outputId": "f9a31ea3-3984-46f5-ba58-944806d33811"
   },
   "outputs": [
    {
     "name": "stdout",
     "output_type": "stream",
     "text": [
      "The most busy day of the week for uber was Saturday\n"
     ]
    }
   ],
   "source": [
    "import calendar\n",
    "print(f\"The most busy day of the week for uber was {calendar.day_name[int(uber_rush_day[0][0])]}\")\n"
   ]
  },
  {
   "cell_type": "markdown",
   "metadata": {
    "id": "zJsbZzuXWuok"
   },
   "source": [
    "### Question 3:\n",
    "\n",
    "What is the 95% percentile of distance traveled for all hired trips during July 2013?"
   ]
  },
  {
   "cell_type": "markdown",
   "metadata": {
    "id": "tgVJ8khjWuol"
   },
   "source": [
    "### Answer :\n",
    "\n",
    "* Get the distance column from both Yellow_Taxi and Uber_new data and attach them using union all which gives us all hired trips\n",
    "* Sort them by percentile \n",
    "* Filter for July 2013\n",
    "* Filter it for less than 95% and consequently get the first row to answer the question"
   ]
  },
  {
   "cell_type": "code",
   "execution_count": null,
   "metadata": {
    "id": "PIwEsC8_Wuol",
    "outputId": "4499210c-726f-4683-ee87-89ee55ede236"
   },
   "outputs": [
    {
     "name": "stdout",
     "output_type": "stream",
     "text": [
      "The the 95% percentile of distance traveled for all hired trips during July 2013 was 8.38 miles\n"
     ]
    }
   ],
   "source": [
    "All_cab_95_distance = engine.execute(\"\"\"select trip_distance, percentile\n",
    "from (select tpep_pickup_datetime, trip_distance, \n",
    "Percent_rank() over( order by trip_distance) as percentile\n",
    "from (\n",
    "select tpep_pickup_datetime, pickup_longitude, pickup_latitude, dropoff_longitude, dropoff_latitude, trip_distance\n",
    "from Yellow_Taxi\n",
    "union all\n",
    "select pickup_datetime, pickup_longitude, pickup_latitude, dropoff_longitude, dropoff_latitude, trip_distance\n",
    "from Uber_new\n",
    ")\n",
    "where strftime(\"%Y\",tpep_pickup_datetime)==\"2013\" and strftime(\"%m\",tpep_pickup_datetime)==\"07\")\n",
    "where percentile <= 0.95\n",
    "order by percentile DESC\n",
    "limit 1\n",
    "\"\"\").fetchall()\n",
    "\n",
    "print(f\"The the 95% percentile of distance traveled for all hired trips during July 2013 was {All_cab_95_distance[0][0]} miles\")"
   ]
  },
  {
   "cell_type": "markdown",
   "metadata": {
    "id": "c0pDB_TXWuol"
   },
   "source": [
    "### Question 4:\n",
    "\n",
    "What were the top 10 days with the highest number of hired rides for 2009, and what was the average distance for each day?\n"
   ]
  },
  {
   "cell_type": "markdown",
   "metadata": {
    "id": "GV8uSc0oWuol"
   },
   "source": [
    "### Answer:\n",
    "\n",
    "* Get all hired data by combining Yellow taxi and uber\n",
    "* Filter for Year 2009\n",
    "* Group the data by days and calculate the average distance per day\n",
    "* Sort them by frequency of hired rides (highest to lowest) \n",
    "* Select the first 10 rows to answer the question"
   ]
  },
  {
   "cell_type": "code",
   "execution_count": null,
   "metadata": {
    "id": "dICUkwbgWuol",
    "outputId": "6b109c36-5693-43f1-9109-13d403427525"
   },
   "outputs": [
    {
     "data": {
      "text/plain": [
       "[('2009-12-11', 251, 2.0751065095953773),\n",
       " ('2009-10-23', 216, 2.267915773293144),\n",
       " ('2009-02-20', 216, 2.2160982528197746),\n",
       " ('2009-12-05', 215, 2.1170163633900745),\n",
       " ('2009-09-25', 215, 2.722113473963468),\n",
       " ('2009-04-03', 213, 2.1394537676911334),\n",
       " ('2009-12-18', 210, 2.118910318609523),\n",
       " ('2009-01-31', 210, 1.9300007260958372),\n",
       " ('2009-06-05', 209, 2.202113229215441),\n",
       " ('2009-08-14', 208, 2.5353721638001256)]"
      ]
     },
     "execution_count": 22,
     "metadata": {},
     "output_type": "execute_result"
    }
   ],
   "source": [
    "top10_days = engine.execute(\"\"\"\n",
    "select strftime(\"%Y-%m-%d\",tpep_pickup_datetime) as Days, count(strftime(\"%Y-%m-%d\",tpep_pickup_datetime)) as Frequency,\n",
    "avg(trip_distance) as Average_distance\n",
    "from (\n",
    "select tpep_pickup_datetime, pickup_longitude, pickup_latitude, dropoff_longitude, dropoff_latitude, trip_distance\n",
    "from Yellow_Taxi\n",
    "union all\n",
    "select pickup_datetime, pickup_longitude, pickup_latitude, dropoff_longitude, dropoff_latitude, trip_distance\n",
    "from Uber_new\n",
    ")\n",
    "where strftime(\"%Y\",tpep_pickup_datetime)==\"2009\"\n",
    "group by Days\n",
    "order by Frequency DESC\n",
    "limit 10\n",
    "\"\"\").fetchall()\n",
    "top10_days"
   ]
  },
  {
   "cell_type": "markdown",
   "metadata": {
    "id": "ESkT1axWWuom"
   },
   "source": [
    "### Question 5:\n",
    "\n",
    "Which 10 days in 2014 were the windiest on average, and how many hired trips were made on those days?"
   ]
  },
  {
   "cell_type": "markdown",
   "metadata": {
    "id": "ZWWa6kB7Wuom"
   },
   "source": [
    "### Answer:\n",
    "\n",
    "* Get the date column from Yellow_Taxi and Uber_new data and attach them using union all \n",
    "* Sort the wind data by the average wind speed for each day (from Hight to Low) \n",
    "* Get the top 10 windiest days in 2014 from the daily_weather table\n",
    "* Group the trip data by days and number of trips for the day\n",
    "* Filter the trips data for the top 10 days of highest wind speed in 2014\n",
    "* Select and output the number of trips in each of the first 10 windiest rows"
   ]
  },
  {
   "cell_type": "code",
   "execution_count": null,
   "metadata": {
    "id": "OOry8nRHWuop",
    "outputId": "9ea96186-c76e-4bb3-ec9b-69dbc9d030d5"
   },
   "outputs": [
    {
     "data": {
      "text/plain": [
       "[('2014-01-02', 62),\n",
       " ('2014-01-03', 41),\n",
       " ('2014-01-07', 77),\n",
       " ('2014-02-13', 63),\n",
       " ('2014-03-13', 104),\n",
       " ('2014-03-26', 96),\n",
       " ('2014-03-29', 107),\n",
       " ('2014-11-02', 1381),\n",
       " ('2014-12-07', 73),\n",
       " ('2014-12-08', 77)]"
      ]
     },
     "execution_count": 28,
     "metadata": {},
     "output_type": "execute_result"
    }
   ],
   "source": [
    "top10_windy_days = engine.execute(\"\"\"\n",
    "select strftime(\"%Y-%m-%d\", tpep_pickup_datetime), count(strftime(\"%Y-%m-%d\", tpep_pickup_datetime))\n",
    "from (\n",
    "select tpep_pickup_datetime, pickup_longitude, pickup_latitude, dropoff_longitude, dropoff_latitude, trip_distance\n",
    "from Yellow_Taxi\n",
    "union all\n",
    "select pickup_datetime, pickup_longitude, pickup_latitude, dropoff_longitude, dropoff_latitude, trip_distance\n",
    "from Uber_new\n",
    ")\n",
    "where strftime(\"%Y-%m-%d\", tpep_pickup_datetime) in (select strftime(\"%Y-%m-%d\", DATE) as Days_wind \n",
    "from Weather_daily\n",
    "where strftime(\"%Y\", DATE)==\"2014\"\n",
    "order by DailyAverageWindSpeed DESC\n",
    "limit 10)\n",
    "group by strftime(\"%Y-%m-%d\", tpep_pickup_datetime)\n",
    "\"\"\").fetchall()\n",
    "\n",
    "top10_windy_days"
   ]
  },
  {
   "cell_type": "markdown",
   "metadata": {
    "id": "8tuVYSrvWuop"
   },
   "source": [
    "### Question 5:\n",
    "\n",
    "During Hurricane Sandy in NYC (Oct 29-30, 2012), plus the week leading up and the week after, how many trips were taken each hour, and for each hour, how much precipitation did NYC receive and what was the sustained wind speed? There should be an entry for every single hour, even if no rides were taken, no precipitation was measured, or there was no wind."
   ]
  },
  {
   "cell_type": "markdown",
   "metadata": {
    "id": "J2crW29GWuop"
   },
   "source": [
    "### Answer\n",
    "\n",
    "* Get all trips data, filter it for Hurrican Sandy days\n",
    "* Get all hourly weather data filter it for Hurrican Sandy days\n",
    "* Group the trip data for each hour of the selected time period to get the number of rides\n",
    "* Join the trip and weather data on the day-hour collumn. \n",
    "* Output the day-hour windspeed, precipitation and the number of trips "
   ]
  },
  {
   "cell_type": "code",
   "execution_count": null,
   "metadata": {
    "id": "sfdRi2tDWuop",
    "outputId": "28bf8717-2724-4c38-8db6-6996cd26983e"
   },
   "outputs": [
    {
     "data": {
      "text/plain": [
       "[('2012-10-22 00', '0.00', 7.0, 2),\n",
       " ('2012-10-22 01', '0.00', 5.0, None),\n",
       " ('2012-10-22 02', '0.00', 7.0, 1),\n",
       " ('2012-10-22 03', '0.00', 0.0, 1),\n",
       " ('2012-10-22 04', '0.00', 0.0, None),\n",
       " ('2012-10-22 05', '0.00', 0.0, 1),\n",
       " ('2012-10-22 06', '0.00', 5.0, 3),\n",
       " ('2012-10-22 07', '0.00', 3.0, 5),\n",
       " ('2012-10-22 08', '0.00', 3.0, 1),\n",
       " ('2012-10-22 09', '0.00', 5.0, 5),\n",
       " ('2012-10-22 12', '0.00', 11.0, 5),\n",
       " ('2012-10-22 14', '0.00', 7.0, 1),\n",
       " ('2012-10-22 15', '0.00', 6.0, 1),\n",
       " ('2012-10-22 16', '0.00', 3.0, 6),\n",
       " ('2012-10-22 17', '0.00', 7.0, 4),\n",
       " ('2012-10-22 18', '0.00', 5.0, 8),\n",
       " ('2012-10-22 19', '0.00', 5.0, 2),\n",
       " ('2012-10-22 20', '0.00', 3.0, 4),\n",
       " ('2012-10-22 21', '0.00', 0.0, 1),\n",
       " ('2012-10-22 22', '0.00', 3.0, 6),\n",
       " ('2012-10-22 23', '0.00', 3.0, None),\n",
       " ('2012-10-23 12', '0.01', 0.0, 1),\n",
       " ('2012-10-23 19', '0.01', 0.0, 2),\n",
       " ('2012-10-23 20', '0.02', 0.0, 8),\n",
       " ('2012-10-23 21', '0.01', 5.0, 4),\n",
       " ('2012-10-23 22', '0.01', 0.0, 6),\n",
       " ('2012-10-23 23', '0.01', 5.0, 3),\n",
       " ('2012-10-24 00', '0.00', 3.0, None),\n",
       " ('2012-10-24 01', '0.00', 5.0, None),\n",
       " ('2012-10-24 02', '0.00', 5.0, 4),\n",
       " ('2012-10-24 03', '0.00', 7.0, None),\n",
       " ('2012-10-24 04', '0.00', 7.0, None),\n",
       " ('2012-10-24 05', '0.00', 6.0, 2),\n",
       " ('2012-10-24 06', '0.00', 3.0, None),\n",
       " ('2012-10-24 07', '0.01', 0.0, 1),\n",
       " ('2012-10-24 08', '0.01', 0.0, 2),\n",
       " ('2012-10-24 09', '0.01', 3.0, 4),\n",
       " ('2012-10-24 10', '0.00', 7.0, 2),\n",
       " ('2012-10-24 11', '0.00', 7.0, 4),\n",
       " ('2012-10-24 12', '0.01', 7.0, 3),\n",
       " ('2012-10-24 12', '0.01', 7.0, 3),\n",
       " ('2012-10-24 13', '0.00', 8.0, 4),\n",
       " ('2012-10-24 14', '0.00', 7.0, 2),\n",
       " ('2012-10-24 15', '0.00', 7.0, 4),\n",
       " ('2012-10-24 16', '0.00', 8.0, 2),\n",
       " ('2012-10-24 17', '0.00', 5.0, 5),\n",
       " ('2012-10-24 18', '0.00', 7.0, 4),\n",
       " ('2012-10-24 19', '0.00', 8.0, 5),\n",
       " ('2012-10-24 20', '0.00', 3.0, 7),\n",
       " ('2012-10-24 21', '0.00', 5.0, 7),\n",
       " ('2012-10-24 22', '0.00', 6.0, 4),\n",
       " ('2012-10-24 23', '0.00', 0.0, 3),\n",
       " ('2012-10-25 00', '0.00', 3.0, 5),\n",
       " ('2012-10-25 01', '0.00', 3.0, 1),\n",
       " ('2012-10-25 02', '0.00', 3.0, 2),\n",
       " ('2012-10-25 03', '0.00', 7.0, None),\n",
       " ('2012-10-25 04', '0.00', 6.0, 1),\n",
       " ('2012-10-25 05', '0.00', 0.0, 2),\n",
       " ('2012-10-25 06', '0.00', 5.0, 4),\n",
       " ('2012-10-25 07', '0.00', 6.0, 3),\n",
       " ('2012-10-25 08', '0.00', 5.0, 6),\n",
       " ('2012-10-25 09', '0.00', 3.0, 2),\n",
       " ('2012-10-25 10', '0.00', 6.0, 4),\n",
       " ('2012-10-25 11', '0.00', 0.0, 5),\n",
       " ('2012-10-25 12', '0.00', 6.0, 7),\n",
       " ('2012-10-25 13', '0.00', 0.0, 3),\n",
       " ('2012-10-25 14', '0.00', 5.0, 3),\n",
       " ('2012-10-25 15', '0.00', 5.0, 5),\n",
       " ('2012-10-25 16', '0.00', 0.0, 1),\n",
       " ('2012-10-25 17', '0.00', 3.0, 4),\n",
       " ('2012-10-25 18', '0.00', 0.0, 4),\n",
       " ('2012-10-25 19', '0.00', 0.0, 1),\n",
       " ('2012-10-25 20', '0.00', 3.0, 13),\n",
       " ('2012-10-25 21', '0.00', 3.0, 8),\n",
       " ('2012-10-25 22', '0.00', 3.0, 6),\n",
       " ('2012-10-25 23', '0.00', 0.0, 3),\n",
       " ('2012-10-26 00', '0.00', 5.0, 2),\n",
       " ('2012-10-26 01', '0.00', 0.0, 1),\n",
       " ('2012-10-26 02', '0.00', 0.0, 3),\n",
       " ('2012-10-26 03', '0.00', 3.0, 2),\n",
       " ('2012-10-26 04', '0.00', 0.0, 2),\n",
       " ('2012-10-26 05', '0.00', 0.0, 1),\n",
       " ('2012-10-26 06', '0.00', 0.0, None),\n",
       " ('2012-10-26 07', '0.00', 3.0, 4),\n",
       " ('2012-10-26 08', '0.00', 3.0, None),\n",
       " ('2012-10-26 09', '0.00', 3.0, 7),\n",
       " ('2012-10-26 10', '0.00', 3.0, 2),\n",
       " ('2012-10-26 11', '0.00', 3.0, 4),\n",
       " ('2012-10-26 12', '0.00', 0.0, 2),\n",
       " ('2012-10-26 13', '0.00', 3.0, 6),\n",
       " ('2012-10-26 14', '0.00', 3.0, 4),\n",
       " ('2012-10-26 15', '0.00', 0.0, 3),\n",
       " ('2012-10-26 16', '0.00', 0.0, 2),\n",
       " ('2012-10-26 17', '0.00', 0.0, 3),\n",
       " ('2012-10-26 18', '0.00', 0.0, 3),\n",
       " ('2012-10-26 19', '0.00', 0.0, 4),\n",
       " ('2012-10-26 20', '0.00', 3.0, 10),\n",
       " ('2012-10-26 21', '0.00', 3.0, 4),\n",
       " ('2012-10-26 22', '0.00', 0.0, 8),\n",
       " ('2012-10-26 23', '0.00', 0.0, 4),\n",
       " ('2012-10-27 00', '0.00', 3.0, 6),\n",
       " ('2012-10-27 01', '0.00', 0.0, 3),\n",
       " ('2012-10-27 02', '0.00', 3.0, 5),\n",
       " ('2012-10-27 03', '0.00', 0.0, 4),\n",
       " ('2012-10-27 04', '0.00', 6.0, None),\n",
       " ('2012-10-27 05', '0.00', 6.0, 2),\n",
       " ('2012-10-27 06', '0.00', 6.0, 1),\n",
       " ('2012-10-27 07', '0.00', 3.0, 1),\n",
       " ('2012-10-27 08', '0.00', 8.0, None),\n",
       " ('2012-10-27 09', '0.00', 6.0, 6),\n",
       " ('2012-10-27 10', '0.00', 9.0, 2),\n",
       " ('2012-10-27 11', '0.00', 6.0, 1),\n",
       " ('2012-10-27 12', '0.00', 8.0, 5),\n",
       " ('2012-10-27 13', '0.00', 8.0, 2),\n",
       " ('2012-10-27 14', '0.00', 10.0, 3),\n",
       " ('2012-10-27 15', '0.00', 10.0, 3),\n",
       " ('2012-10-27 16', '0.00', 7.0, 8),\n",
       " ('2012-10-27 17', '0.00', 7.0, 10),\n",
       " ('2012-10-27 18', '0.00', 7.0, 7),\n",
       " ('2012-10-27 19', '0.00', 9.0, 6),\n",
       " ('2012-10-27 20', '0.00', 7.0, 9),\n",
       " ('2012-10-27 21', '0.00', 9.0, 6),\n",
       " ('2012-10-27 22', '0.00', 9.0, 7),\n",
       " ('2012-10-27 23', '0.00', 8.0, 8),\n",
       " ('2012-10-28 00', '0.00', 11.0, 6),\n",
       " ('2012-10-28 01', '0.00', 8.0, 8),\n",
       " ('2012-10-28 02', '0.00', 8.0, 3),\n",
       " ('2012-10-28 03', '0.00', 9.0, 3),\n",
       " ('2012-10-28 04', '0.00', 10.0, 4),\n",
       " ('2012-10-28 05', '0.00', 11.0, 1),\n",
       " ('2012-10-28 06', '0.00', 10.0, None),\n",
       " ('2012-10-28 07', '0.00', 11.0, 2),\n",
       " ('2012-10-28 08', '0.00', 11.0, 1),\n",
       " ('2012-10-28 09', '0.00', 11.0, 4),\n",
       " ('2012-10-28 10', '0.00', 10.0, 2),\n",
       " ('2012-10-28 11', '0.00', 8.0, 5),\n",
       " ('2012-10-28 12', '0.00', 7.0, 2),\n",
       " ('2012-10-28 13', '0.00', 13.0, 3),\n",
       " ('2012-10-28 14', '0.00', 13.0, 5),\n",
       " ('2012-10-28 15', '0.00', 13.0, 6),\n",
       " ('2012-10-28 16', '0.00', 16.0, 4),\n",
       " ('2012-10-28 17', '0.00', 11.0, 4),\n",
       " ('2012-10-28 18', '0.00', 15.0, 5),\n",
       " ('2012-10-28 19', '0.00', 14.0, 3),\n",
       " ('2012-10-28 20', '0.00', 16.0, 4),\n",
       " ('2012-10-28 21', '0.00', 14.0, 3),\n",
       " ('2012-10-28 22', '0.00', 16.0, 3),\n",
       " ('2012-10-28 23', '0.00', 14.0, 1),\n",
       " ('2012-10-29 00', '0.00', 16.0, 1),\n",
       " ('2012-10-29 01', '0.00', 11.0, None),\n",
       " ('2012-10-29 02', '0.00', 13.0, 1),\n",
       " ('2012-10-29 03', '0.00', 17.0, None),\n",
       " ('2012-10-29 04', '0.00', 15.0, 1),\n",
       " ('2012-10-29 05', '0.00', 15.0, None),\n",
       " ('2012-10-29 06', '0.02', 16.0, None),\n",
       " ('2012-10-29 07', '0.02', 17.0, 1),\n",
       " ('2012-10-29 08', '0.01', 21.0, None),\n",
       " ('2012-10-29 09', '0.00', 16.0, 1),\n",
       " ('2012-10-29 11', '0.01', 15.0, 3),\n",
       " ('2012-10-29 11', '0.05', 17.0, 3),\n",
       " ('2012-10-29 11', '0.01', 17.0, 3),\n",
       " ('2012-10-29 12', '0.02', 15.0, 4),\n",
       " ('2012-10-29 12', '0.03', 21.0, 4),\n",
       " ('2012-10-29 12', '0.04', 18.0, 4),\n",
       " ('2012-10-29 12', '0.05', 22.0, 4),\n",
       " ('2012-10-29 12', '0.06', 20.0, 4),\n",
       " ('2012-10-29 13', '0.02', 24.0, None),\n",
       " ('2012-10-29 13', '0.03', 28.0, None),\n",
       " ('2012-10-29 13', '0.04', 28.0, None),\n",
       " ('2012-10-29 14', '0.03', 23.0, 2),\n",
       " ('2012-10-29 14', '0.05', 28.0, 2),\n",
       " ('2012-10-29 14', '0.02', 24.0, 2),\n",
       " ('2012-10-29 15', '0.07', 26.0, 2),\n",
       " ('2012-10-29 15', '0.11', 24.0, 2),\n",
       " ('2012-10-29 16', '0.10', 23.0, None),\n",
       " ('2012-10-29 16', '0.11', 25.0, None),\n",
       " ('2012-10-29 16', '0.09', 30.0, None),\n",
       " ('2012-10-29 17', '0.04', 29.0, 1),\n",
       " ('2012-10-29 17', '0.05', 14.0, 1),\n",
       " ('2012-10-29 17', '0.06', 18.0, 1),\n",
       " ('2012-10-29 17', '0.07', 25.0, 1),\n",
       " ('2012-10-29 18', '0.02', 21.0, 3),\n",
       " ('2012-10-29 18', '0.02', 25.0, 3),\n",
       " ('2012-10-29 19', '0.01', 25.0, None),\n",
       " ('2012-10-29 20', '0.01', 17.0, None),\n",
       " ('2012-10-29 21', '0.00', 15.0, 1),\n",
       " ('2012-10-29 22', '0.02', 9.0, None),\n",
       " ('2012-10-29 23', '0.03', 7.0, None),\n",
       " ('2012-10-29 23', '0.06', 15.0, None),\n",
       " ('2012-10-29 23', '0.09', 10.0, None),\n",
       " ('2012-10-30 00', '0.03', 13.0, 1),\n",
       " ('2012-10-30 00', '0.02', 10.0, 1),\n",
       " ('2012-10-30 01', '0.01', 13.0, None),\n",
       " ('2012-10-30 01', '0.01', 9.0, None),\n",
       " ('2012-10-30 01', '0.01', 8.0, None),\n",
       " ('2012-10-30 02', '0.03', 9.0, None),\n",
       " ('2012-10-30 03', '0.04', 17.0, None),\n",
       " ('2012-10-30 04', '0.01', 9.0, 1),\n",
       " ('2012-10-30 05', '0.01', 7.0, None),\n",
       " ('2012-10-30 06', '0.01', 7.0, None),\n",
       " ('2012-10-30 07', '0.01', 10.0, None),\n",
       " ('2012-10-30 08', '0.01', 11.0, None),\n",
       " ('2012-10-30 08', '0.05', 7.0, None),\n",
       " ('2012-10-30 09', '0.01', 15.0, 2),\n",
       " ('2012-10-30 09', '0.06', 11.0, 2),\n",
       " ('2012-10-30 09', '0.09', 10.0, 2),\n",
       " ('2012-10-30 10', '0.02', 8.0, 3),\n",
       " ('2012-10-30 10', '0.02', 10.0, 3),\n",
       " ('2012-10-30 10', '0.03', 6.0, 3),\n",
       " ('2012-10-30 11', '0.00', 7.0, 3),\n",
       " ('2012-10-30 12', '0.00', 7.0, 2),\n",
       " ('2012-10-30 13', '0.00', 6.0, 3),\n",
       " ('2012-10-30 16', '0.01', 3.0, 1),\n",
       " ('2012-10-30 16', '0.01', 5.0, 1),\n",
       " ('2012-10-30 16', '0.01', 6.0, 1),\n",
       " ('2012-10-30 17', '0.00', 5.0, 3),\n",
       " ('2012-10-30 18', '0.00', 5.0, 2),\n",
       " ('2012-10-30 19', '0.00', 3.0, 4),\n",
       " ('2012-10-30 20', '0.00', 7.0, 2),\n",
       " ('2012-10-30 21', '0.00', 5.0, 2),\n",
       " ('2012-10-30 22', '0.00', 7.0, 3),\n",
       " ('2012-10-30 23', '0.00', 9.0, 2),\n",
       " ('2012-10-31 00', '0.01', 3.0, None),\n",
       " ('2012-10-31 00', '0.01', 0.0, None),\n",
       " ('2012-10-31 00', '0.01', 5.0, None),\n",
       " ('2012-10-31 01', '0.01', 5.0, None),\n",
       " ('2012-10-31 02', '0.01', 0.0, 3),\n",
       " ('2012-10-31 03', '0.00', 8.0, None),\n",
       " ('2012-10-31 05', '0.00', 0.0, None),\n",
       " ('2012-10-31 06', '0.00', 6.0, 2),\n",
       " ('2012-10-31 07', '0.00', 8.0, 3),\n",
       " ('2012-10-31 08', '0.00', 7.0, 1),\n",
       " ('2012-10-31 09', '0.00', 8.0, 2),\n",
       " ('2012-10-31 10', '0.00', 3.0, 2),\n",
       " ('2012-10-31 11', '0.00', 5.0, 3),\n",
       " ('2012-10-31 12', '0.00', 3.0, None),\n",
       " ('2012-10-31 13', '0.00', 6.0, 2),\n",
       " ('2012-10-31 14', '0.00', 5.0, 3),\n",
       " ('2012-10-31 15', '0.00', 3.0, 2),\n",
       " ('2012-10-31 16', '0.00', 5.0, 1),\n",
       " ('2012-10-31 17', '0.00', 5.0, None),\n",
       " ('2012-10-31 18', '0.00', 3.0, 6),\n",
       " ('2012-10-31 19', '0.00', 9.0, 3),\n",
       " ('2012-10-31 20', '0.00', 7.0, 1),\n",
       " ('2012-10-31 21', '0.00', 7.0, 1),\n",
       " ('2012-10-31 22', '0.00', 6.0, 4),\n",
       " ('2012-10-31 23', '0.00', 3.0, 1),\n",
       " ('2012-11-01 00', '0.00', 3.0, 2),\n",
       " ('2012-11-01 01', '0.00', 3.0, None),\n",
       " ('2012-11-01 02', '0.00', 3.0, None),\n",
       " ('2012-11-01 04', '0.00', 7.0, 1),\n",
       " ('2012-11-01 05', '0.00', 6.0, None),\n",
       " ('2012-11-01 06', '0.00', 13.0, 1),\n",
       " ('2012-11-01 08', '0.00', 7.0, 2),\n",
       " ('2012-11-01 09', '0.00', 3.0, 2),\n",
       " ('2012-11-01 10', '0.00', 6.0, 5),\n",
       " ('2012-11-01 11', '0.00', 6.0, 5),\n",
       " ('2012-11-01 12', '0.00', 11.0, 5),\n",
       " ('2012-11-01 13', '0.00', 8.0, 2),\n",
       " ('2012-11-01 14', '0.00', 8.0, 2),\n",
       " ('2012-11-01 16', '0.00', 5.0, 2),\n",
       " ('2012-11-01 17', '0.00', 5.0, 2),\n",
       " ('2012-11-01 18', '0.00', 9.0, 6),\n",
       " ('2012-11-01 19', '0.00', 3.0, 6),\n",
       " ('2012-11-01 20', '0.00', 5.0, 4),\n",
       " ('2012-11-01 21', '0.00', 8.0, 1),\n",
       " ('2012-11-01 22', '0.00', 5.0, 4),\n",
       " ('2012-11-01 23', '0.00', 0.0, 1),\n",
       " ('2012-11-02 00', '0.00', 5.0, 3),\n",
       " ('2012-11-02 01', '0.00', 7.0, None),\n",
       " ('2012-11-02 02', '0.00', 3.0, None),\n",
       " ('2012-11-02 03', '0.00', 3.0, 1),\n",
       " ('2012-11-02 04', '0.00', 5.0, None),\n",
       " ('2012-11-02 05', '0.00', 5.0, 1),\n",
       " ('2012-11-02 06', '0.00', 6.0, None),\n",
       " ('2012-11-02 08', '0.00', 5.0, 3),\n",
       " ('2012-11-02 09', '0.00', 7.0, None),\n",
       " ('2012-11-02 10', '0.00', 9.0, 2),\n",
       " ('2012-11-02 11', '0.00', 7.0, 3),\n",
       " ('2012-11-02 12', '0.00', 7.0, 3),\n",
       " ('2012-11-02 13', '0.00', 6.0, 1),\n",
       " ('2012-11-02 14', '0.00', 6.0, 4),\n",
       " ('2012-11-02 15', '0.00', 5.0, 4),\n",
       " ('2012-11-02 16', '0.00', 11.0, 3),\n",
       " ('2012-11-02 17', '0.00', 8.0, 1),\n",
       " ('2012-11-02 18', '0.00', 9.0, 1),\n",
       " ('2012-11-02 19', '0.00', 7.0, 4),\n",
       " ('2012-11-02 20', '0.00', 9.0, 5),\n",
       " ('2012-11-02 21', '0.00', 7.0, 50),\n",
       " ('2012-11-02 22', '0.00', 8.0, 11),\n",
       " ('2012-11-02 23', '0.00', 8.0, 20),\n",
       " ('2012-11-03 00', '0.00', 7.0, 48),\n",
       " ('2012-11-03 01', '0.00', 7.0, 37),\n",
       " ('2012-11-03 02', '0.00', 7.0, 72),\n",
       " ('2012-11-03 03', '0.00', 7.0, 39),\n",
       " ('2012-11-03 04', '0.00', 8.0, 33),\n",
       " ('2012-11-03 05', '0.00', 8.0, 24),\n",
       " ('2012-11-03 06', '0.00', 7.0, 20),\n",
       " ('2012-11-03 07', '0.00', 6.0, 48),\n",
       " ('2012-11-03 08', '0.00', 10.0, 81),\n",
       " ('2012-11-03 09', '0.00', 13.0, 108),\n",
       " ('2012-11-03 10', '0.00', 6.0, 95),\n",
       " ('2012-11-03 11', '0.00', 13.0, 135),\n",
       " ('2012-11-03 12', '0.00', 13.0, 143),\n",
       " ('2012-11-03 13', '0.00', 8.0, 128),\n",
       " ('2012-11-03 14', '0.00', 8.0, 137),\n",
       " ('2012-11-03 15', '0.00', 7.0, 178),\n",
       " ('2012-11-03 16', '0.00', 10.0, 129),\n",
       " ('2012-11-03 17', '0.00', 9.0, 152),\n",
       " ('2012-11-03 18', '0.00', 9.0, 190),\n",
       " ('2012-11-03 19', '0.00', 13.0, 190),\n",
       " ('2012-11-03 20', '0.00', 10.0, 149),\n",
       " ('2012-11-03 21', '0.00', 9.0, 161),\n",
       " ('2012-11-03 22', '0.00', 0.0, 106),\n",
       " ('2012-11-03 23', '0.00', 7.0, 79),\n",
       " ('2012-11-04 00', '0.00', 9.0, 41),\n",
       " ('2012-11-04 01', '0.00', 7.0, 10),\n",
       " ('2012-11-04 02', '0.00', 7.0, 7),\n",
       " ('2012-11-04 03', '0.00', 7.0, 1),\n",
       " ('2012-11-04 04', '0.00', 8.0, 3),\n",
       " ('2012-11-04 05', '0.00', 6.0, 1),\n",
       " ('2012-11-04 06', '0.00', 6.0, None),\n",
       " ('2012-11-04 07', '0.00', 3.0, 1),\n",
       " ('2012-11-04 08', '0.00', 7.0, 2),\n",
       " ('2012-11-04 09', '0.00', 9.0, 1),\n",
       " ('2012-11-04 11', '0.00', 6.0, 5),\n",
       " ('2012-11-04 12', '0.00', 8.0, 7),\n",
       " ('2012-11-04 13', '0.00', 8.0, 4),\n",
       " ('2012-11-04 14', '0.00', 7.0, 3),\n",
       " ('2012-11-04 15', '0.00', 7.0, 2),\n",
       " ('2012-11-04 16', '0.00', 5.0, 3),\n",
       " ('2012-11-04 17', '0.00', 5.0, 6),\n",
       " ('2012-11-04 19', '0.00', 7.0, 5),\n",
       " ('2012-11-04 21', '0.00', 7.0, 2),\n",
       " ('2012-11-04 22', '0.00', 6.0, 3),\n",
       " ('2012-11-04 23', '0.00', 5.0, 1),\n",
       " ('2012-11-05 00', '0.00', 0.0, 1),\n",
       " ('2012-11-05 01', '0.00', 5.0, 1),\n",
       " ('2012-11-05 02', '0.00', 3.0, None),\n",
       " ('2012-11-05 03', '0.00', 7.0, None),\n",
       " ('2012-11-05 04', '0.00', 3.0, None),\n",
       " ('2012-11-05 05', '0.00', 6.0, 1),\n",
       " ('2012-11-05 06', '0.00', 8.0, 3),\n",
       " ('2012-11-05 07', '0.00', 6.0, 3),\n",
       " ('2012-11-05 08', '0.00', 7.0, 4),\n",
       " ('2012-11-05 09', '0.00', 3.0, 6),\n",
       " ('2012-11-05 10', '0.00', 3.0, 4),\n",
       " ('2012-11-05 11', '0.00', 3.0, 3),\n",
       " ('2012-11-05 12', '0.00', 5.0, 3),\n",
       " ('2012-11-05 13', '0.00', 3.0, 4),\n",
       " ('2012-11-05 15', '0.00', 8.0, 2),\n",
       " ('2012-11-05 17', '0.00', 5.0, 14),\n",
       " ('2012-11-05 18', '0.00', 5.0, 7),\n",
       " ('2012-11-05 19', '0.00', 0.0, 4),\n",
       " ('2012-11-05 20', '0.00', 3.0, 7),\n",
       " ('2012-11-05 21', '0.00', 7.0, 5),\n",
       " ('2012-11-05 22', '0.00', 6.0, 2),\n",
       " ('2012-11-05 23', '0.00', 9.0, 1),\n",
       " ('2012-11-06 00', '0.00', 6.0, 4),\n",
       " ('2012-11-06 01', '0.00', 5.0, 1),\n",
       " ('2012-11-06 02', '0.00', 8.0, 2),\n",
       " ('2012-11-06 03', '0.00', 10.0, 1),\n",
       " ('2012-11-06 04', '0.00', 6.0, 1),\n",
       " ('2012-11-06 05', '0.00', 5.0, 2),\n",
       " ('2012-11-06 06', '0.00', 7.0, 1),\n",
       " ('2012-11-06 07', '0.00', 7.0, 4),\n",
       " ('2012-11-06 08', '0.00', 8.0, 4),\n",
       " ('2012-11-06 09', '0.00', 3.0, 3),\n",
       " ('2012-11-06 10', '0.00', 6.0, 4),\n",
       " ('2012-11-06 11', '0.00', 7.0, 1),\n",
       " ('2012-11-06 12', '0.00', 5.0, 5),\n",
       " ('2012-11-06 13', '0.00', 0.0, 7),\n",
       " ('2012-11-06 14', '0.00', 6.0, 7),\n",
       " ('2012-11-06 15', '0.00', 6.0, 4),\n",
       " ('2012-11-06 16', '0.00', 5.0, 4),\n",
       " ('2012-11-06 17', '0.00', 5.0, 6),\n",
       " ('2012-11-06 18', '0.00', 3.0, 5),\n",
       " ('2012-11-06 19', '0.00', 3.0, 9),\n",
       " ('2012-11-06 20', '0.00', 7.0, 3),\n",
       " ('2012-11-06 21', '0.00', 7.0, 2),\n",
       " ('2012-11-06 22', '0.00', 7.0, 4),\n",
       " ('2012-11-06 23', '0.00', 3.0, 3)]"
      ]
     },
     "execution_count": 33,
     "metadata": {},
     "output_type": "execute_result"
    }
   ],
   "source": [
    "weather_per_hour = engine.execute(\"\"\" select Hours_weather, HourlyPrecipitation, HourlyWindSpeed, Trips\n",
    "from(select strftime(\"%Y-%m-%d %H\", DATE) as Hours_weather, HourlyPrecipitation, HourlyWindSpeed\n",
    "from Weather_hourly\n",
    "where strftime(\"%Y-%m-%d\", DATE)<=\"2012-11-06\" and strftime(\"%Y-%m-%d\", DATE)>=\"2012-10-22\") as t2\n",
    "left join (select strftime(\"%Y-%m-%d %H\", tpep_pickup_datetime) as Hours_trips, count(strftime(\"%Y-%m-%d %H\", tpep_pickup_datetime)) as Trips\n",
    "from (\n",
    "select tpep_pickup_datetime, pickup_longitude, pickup_latitude, dropoff_longitude, dropoff_latitude, trip_distance\n",
    "from Yellow_Taxi\n",
    "union all\n",
    "select pickup_datetime, pickup_longitude, pickup_latitude, dropoff_longitude, dropoff_latitude, trip_distance\n",
    "from Uber_new\n",
    ")\n",
    "where strftime(\"%Y-%m-%d\", tpep_pickup_datetime)<=\"2012-11-06\" and strftime(\"%Y-%m-%d\", tpep_pickup_datetime)>=\"2012-10-22\"\n",
    "group by strftime(\"%Y-%m-%d %H\", tpep_pickup_datetime)) as t1\n",
    "on Hours_trips = Hours_weather\n",
    "\"\"\").fetchall()\n",
    "weather_per_hour"
   ]
  },
  {
   "cell_type": "markdown",
   "metadata": {
    "id": "2a3uBhZ-Wuoq"
   },
   "source": [
    "# Part 4"
   ]
  },
  {
   "cell_type": "code",
   "execution_count": null,
   "metadata": {
    "id": "dEFJz1S9Wuoq"
   },
   "outputs": [],
   "source": [
    "import pandas as pd\n",
    "import numpy as np\n",
    "import matplotlib.pyplot as plt"
   ]
  },
  {
   "cell_type": "markdown",
   "metadata": {
    "id": "C-h87CXBWuor"
   },
   "source": [
    "### Question 1:\n",
    "\n",
    "Create an appropriate visualization for the first query/question in part 3."
   ]
  },
  {
   "cell_type": "markdown",
   "metadata": {
    "id": "oZ5OXIQ4Wuor"
   },
   "source": [
    "### Answer:"
   ]
  },
  {
   "cell_type": "code",
   "execution_count": null,
   "metadata": {
    "id": "JQZdyW97Wuor"
   },
   "outputs": [],
   "source": [
    "def trips_hour():\n",
    "    rush_hour = engine.execute(\"\"\"select strftime(\"%H\",tpep_pickup_datetime) as Hours, count(strftime(\"%H\",tpep_pickup_datetime)) as Frequency \n",
    "                        from Yellow_Taxi\n",
    "                        group by Hours\n",
    "                        order by Hours ASC\"\"\").fetchall()\n",
    "    hour = [f\"{i[0]}:00\" for i in rush_hour]\n",
    "    trips = [i[1] for i in rush_hour]\n",
    "\n",
    "    plt.figure(figsize=[15,5], dpi=100)\n",
    "    plt.bar(hour, trips, color=\"yellow\")\n",
    "    plt.xlabel(\"Hour of the Day\")\n",
    "    plt.ylabel(\"Number of Trips\")\n",
    "    plt.title(\"Most Popular Time of the Day for Yellow Taxi\")\n",
    "    return plt.show()"
   ]
  },
  {
   "cell_type": "code",
   "execution_count": null,
   "metadata": {
    "id": "2OwrdaA8Wuor",
    "outputId": "1afa1d9c-7c08-496f-d8ba-e35b955927dc"
   },
   "outputs": [
    {
     "data": {
      "image/png": "[encoded data removed]",
      "text/plain": [
       "<Figure size 1500x500 with 1 Axes>"
      ]
     },
     "metadata": {
      "needs_background": "light"
     },
     "output_type": "display_data"
    }
   ],
   "source": [
    "trips_hour()"
   ]
  },
  {
   "cell_type": "markdown",
   "metadata": {
    "id": "Xa0kyruuWuor"
   },
   "source": [
    "### Question 2\n",
    "\n",
    "Create a visualization that shows the average distance traveled per month (regardless of year - so group by each month) for both taxis and Ubers combined. Include the 90% confidence interval around the mean in the visualization."
   ]
  },
  {
   "cell_type": "markdown",
   "metadata": {
    "id": "nWD4Kz6IWuor"
   },
   "source": [
    "### Answer "
   ]
  },
  {
   "cell_type": "code",
   "execution_count": null,
   "metadata": {
    "id": "ob7v2YbyWuos"
   },
   "outputs": [],
   "source": [
    "def distance_month():\n",
    "    month_distance = engine.execute(\"\"\"\n",
    "    select strftime(\"%m\",tpep_pickup_datetime) as Month, avg(trip_distance) as Average_distance\n",
    "    from (\n",
    "    select tpep_pickup_datetime, pickup_longitude, pickup_latitude, dropoff_longitude, dropoff_latitude, trip_distance\n",
    "    from Yellow_Taxi\n",
    "    union all\n",
    "    select pickup_datetime, pickup_longitude, pickup_latitude, dropoff_longitude, dropoff_latitude, trip_distance\n",
    "    from Uber_new\n",
    "    )\n",
    "    group by Month\n",
    "    \"\"\").fetchall()\n",
    "    month_name = [\"January\", \"February\", \"March\", \"April\", \"May\", \"June\", \"July\", \"August\", \"September\", \"October\", \"Novemeber\",\"December\"]\n",
    "    months = [month_name[int(i[0])-1] for i in month_distance]\n",
    "    trip_distance = [i[1] for i in month_distance]\n",
    "    all_month_distance = engine.execute(\"\"\"\n",
    "    select strftime(\"%m\",tpep_pickup_datetime) as Month, trip_distance\n",
    "    from (\n",
    "    select tpep_pickup_datetime, pickup_longitude, pickup_latitude, dropoff_longitude, dropoff_latitude, trip_distance\n",
    "    from Yellow_Taxi\n",
    "    union all\n",
    "    select pickup_datetime, pickup_longitude, pickup_latitude, dropoff_longitude, dropoff_latitude, trip_distance\n",
    "    from Uber_new\n",
    "    )\n",
    "    \"\"\").fetchall()\n",
    "    month_data = pd.DataFrame(data=all_month_distance, columns=[\"Month\", \"Distance\"])\n",
    "    month_data = month_data.groupby(\"Month\").agg([\"mean\",\"count\",\"std\"])\n",
    "    mean = month_data[\"Distance\"][\"mean\"]\n",
    "    std = month_data[\"Distance\"][\"std\"]\n",
    "    month_data[\"lower\"] = month_data[\"Distance\"][\"mean\"] - 1.64*(month_data[\"Distance\"][\"std\"]/np.sqrt(month_data[\"Distance\"][\"count\"]))\n",
    "    month_data[\"upper\"] = month_data[\"Distance\"][\"mean\"] + 1.64*(month_data[\"Distance\"][\"std\"]/np.sqrt(month_data[\"Distance\"][\"count\"]))\n",
    "    month_data[\"Diff\"]= month_data[\"upper\"] - month_data[\"lower\"]\n",
    "    plt.figure(figsize=[15,10], dpi=100)\n",
    "    plt.bar(months, mean, yerr = month_data[\"Diff\"]/2, capsize=10)\n",
    "    plt.ylim([2.2,2.7])\n",
    "    plt.xlabel(\"Month of the Year\")\n",
    "    plt.ylabel(\"Average Distance Travelled (miles)\")\n",
    "    plt.title(\"Average Distance for each Month\")\n",
    "    return plt.show()"
   ]
  },
  {
   "cell_type": "code",
   "execution_count": null,
   "metadata": {
    "id": "5U8msmOmWuos",
    "outputId": "d6c62a05-5c27-4e16-c621-f56f7370c676"
   },
   "outputs": [
    {
     "data": {
      "image/png": "[encoded data removed]",
      "text/plain": [
       "<Figure size 1500x1000 with 1 Axes>"
      ]
     },
     "metadata": {
      "needs_background": "light"
     },
     "output_type": "display_data"
    }
   ],
   "source": [
    "distance_month()"
   ]
  },
  {
   "cell_type": "markdown",
   "metadata": {
    "id": "LZjS7gOIWuos"
   },
   "source": [
    "### Question 3\n",
    "\n",
    "Define three lat/long coordinate boxes around the three major New York airports: LGA, JFK, and EWR (you can use bboxfinder to help). Create a visualization that compares what day of the week was most popular for drop offs for each airport.\n",
    "\n",
    "\n",
    "### Answer:"
   ]
  },
  {
   "cell_type": "code",
   "execution_count": null,
   "metadata": {
    "id": "Xwuf-KPKWuos"
   },
   "outputs": [],
   "source": [
    "def airport_week_traffic():\n",
    "    lat1_lga = 40.764378\n",
    "    lat2_lga = 40.788817\n",
    "    long1_lga = -73.890103\n",
    "    long2_lga = -73.852680\n",
    "\n",
    "    long1_ewr, lat1_ewr, long2_ewr, lat2_ewr = -74.224983,40.661716,-74.143272,40.723671\n",
    "    long1_jfk, lat1_jfk, long2_jfk, lat2_jfk =-73.828542,40.619587,-73.733957,40.675462\n",
    "    \n",
    "    day_counts_lga = engine.execute(f\"\"\"select strftime(\"%w\",tpep_pickup_datetime) as Day,count(strftime(\"%w\",tpep_pickup_datetime)) as Frequency \n",
    "                    from(\n",
    "                    select tpep_pickup_datetime, pickup_longitude, pickup_latitude, dropoff_longitude, dropoff_latitude, trip_distance\n",
    "                    from Yellow_Taxi\n",
    "                    union all\n",
    "                    select pickup_datetime, pickup_longitude, pickup_latitude, dropoff_longitude, dropoff_latitude, trip_distance\n",
    "                    from Uber_new\n",
    "                    )\n",
    "                    where dropoff_longitude>={long1_lga} and dropoff_longitude<={long2_lga} and dropoff_latitude>={lat1_lga} and dropoff_latitude<={lat2_lga}\n",
    "                    group by Day\n",
    "                    \"\"\").fetchall()\n",
    "    day_counts_ewr = engine.execute(f\"\"\"select strftime(\"%w\",tpep_pickup_datetime) as Day,count(strftime(\"%w\",tpep_pickup_datetime)) as Frequency \n",
    "                        from(\n",
    "                        select tpep_pickup_datetime, pickup_longitude, pickup_latitude, dropoff_longitude, dropoff_latitude, trip_distance\n",
    "                        from Yellow_Taxi\n",
    "                        union all\n",
    "                        select pickup_datetime, pickup_longitude, pickup_latitude, dropoff_longitude, dropoff_latitude, trip_distance\n",
    "                        from Uber_new\n",
    "                        )\n",
    "                        where dropoff_longitude>={long1_ewr} and dropoff_longitude<={long2_ewr} and dropoff_latitude>={lat1_ewr} and dropoff_latitude<={lat2_ewr}\n",
    "                        group by Day\n",
    "                        \"\"\").fetchall()\n",
    "    day_counts_jfk = engine.execute(f\"\"\"select strftime(\"%w\",tpep_pickup_datetime) as Day,count(strftime(\"%w\",tpep_pickup_datetime)) as Frequency \n",
    "                        from(\n",
    "                        select tpep_pickup_datetime, pickup_longitude, pickup_latitude, dropoff_longitude, dropoff_latitude, trip_distance\n",
    "                        from Yellow_Taxi\n",
    "                        union all\n",
    "                        select pickup_datetime, pickup_longitude, pickup_latitude, dropoff_longitude, dropoff_latitude, trip_distance\n",
    "                        from Uber_new\n",
    "                        )\n",
    "                        where dropoff_longitude>={long1_jfk} and dropoff_longitude<={long2_jfk} and dropoff_latitude>={lat1_jfk} and dropoff_latitude<={lat2_jfk}\n",
    "                        group by Day\n",
    "                        \"\"\").fetchall()\n",
    "    day_name = [\"Monday\", \"Tuesday\", \"Wednesday\", \"Thursday\", \"Friday\", \"Saturday\", \"Sunday\"]\n",
    "    days = [day_name[int(i)] for i in list(zip(*day_counts_lga))[0]]\n",
    "    freq_lga = list(zip(*day_counts_lga))[1]\n",
    "    freq_ewr = list(zip(*day_counts_ewr))[1]\n",
    "    freq_jfk = list(zip(*day_counts_jfk))[1]\n",
    "\n",
    "    plt.figure(figsize=[10,5], dpi=100)\n",
    "    plt.title(\"Traffic for Airports Near New York for Each Day of the Week\")\n",
    "    plt.xlabel(\"Day of the Week\")\n",
    "    plt.ylabel(\"Number of Drop-offs\")\n",
    "    w= 0.35\n",
    "    x = np.arange(len(days))\n",
    "    plt.bar(x-w/2,freq_lga,w/2, label=\"LaGuardia\")\n",
    "    plt.bar(x,freq_jfk,w/2, label=\"JFK\")\n",
    "    plt.bar(x+w/2,freq_ewr,w/2, label=\"Newark\")\n",
    "    plt.xticks(x, days)\n",
    "    plt.legend()\n",
    "    return plt.show()"
   ]
  },
  {
   "cell_type": "code",
   "execution_count": null,
   "metadata": {
    "id": "sS5QgZIEWuot",
    "outputId": "72ad0d11-b1a4-4995-f9f1-1ae7e0554237"
   },
   "outputs": [
    {
     "data": {
      "image/png": "[encoded data removed]",
      "text/plain": [
       "<Figure size 1000x500 with 1 Axes>"
      ]
     },
     "metadata": {
      "needs_background": "light"
     },
     "output_type": "display_data"
    }
   ],
   "source": [
    "airport_week_traffic()"
   ]
  },
  {
   "cell_type": "markdown",
   "metadata": {
    "id": "Jhyq620dWuot"
   },
   "source": [
    "### Question 4\n",
    "\n",
    "Create a heatmap of all hired trips over a map of the area. Consider using KeplerGL or another library that helps generate geospatial visualizations.\n",
    "\n",
    "### Answer:"
   ]
  },
  {
   "cell_type": "code",
   "execution_count": 9,
   "metadata": {
    "id": "SeEZpPafWuot"
   },
   "outputs": [],
   "source": [
    "def heat_map():\n",
    "    import pandas as pd\n",
    "    from keplergl import KeplerGl\n",
    "    combined_trip_data = engine.execute(\"\"\"select round(pickup_longitude,3), round(pickup_latitude,3)\n",
    "                        from (\n",
    "                        select tpep_pickup_datetime, pickup_longitude, pickup_latitude, dropoff_longitude, dropoff_latitude, trip_distance, fare_amount\n",
    "                        from Yellow_Taxi\n",
    "                        union all\n",
    "                        select pickup_datetime, pickup_longitude, pickup_latitude, dropoff_longitude, dropoff_latitude, trip_distance, fare_amount\n",
    "                        from Uber_new\n",
    "                        )\n",
    "                        \"\"\").fetchall()\n",
    "    heat_map_df = pd.DataFrame(data=combined_trip_data, columns=[\"pickup_longitude\",\"pickup_latitude\"])\n",
    "    heat_grouped = heat_map_df.groupby([\"pickup_longitude\",\"pickup_latitude\"]).size().reset_index(name='counts')\n",
    "    map_1 = KeplerGl(height=500)\n",
    "    map_1.add_data(data = heat_grouped)\n",
    "    return map_1\n"
   ]
  },
  {
   "cell_type": "code",
   "execution_count": 10,
   "metadata": {
    "id": "xzXn1KUXWuot",
    "outputId": "3b9fbc14-7070-4b43-91b8-2a6a76f22039"
   },
   "outputs": [
    {
     "name": "stdout",
     "output_type": "stream",
     "text": [
      "User Guide: https://docs.kepler.gl/docs/keplergl-jupyter\n"
     ]
    },
    {
     "data": {
      "application/vnd.jupyter.widget-view+json": {
       "model_id": "e58dce8469274e9e856eea167609a4a4",
       "version_major": 2,
       "version_minor": 0
      },
      "text/plain": [
       "KeplerGl(data={'unnamed': {'index': [0, 1, 2, 3, 4, 5, 6, 7, 8, 9, 10, 11, 12, 13, 14, 15, 16, 17, 18, 19, 20,…"
      ]
     },
     "metadata": {},
     "output_type": "display_data"
    }
   ],
   "source": [
    "heat_map()"
   ]
  },
  {
   "cell_type": "markdown",
   "metadata": {
    "id": "3Z-zFfV-Wuou"
   },
   "source": [
    "### Question 5\n",
    "\n",
    "Create a scatter plot that compares tip amount versus distance for Yellow Taxi rides. You may remove any outliers how you see fit.\n",
    "\n",
    "### Answer:"
   ]
  },
  {
   "cell_type": "code",
   "execution_count": null,
   "metadata": {
    "id": "RFzlgKPVWuox"
   },
   "outputs": [],
   "source": [
    "def tip_distance():\n",
    "    tip_distance = engine.execute(f\"\"\" select trip_distance, tip_amount\n",
    "                            from Yellow_Taxi\n",
    "                            where trip_distance<30 and tip_amount<20\n",
    "                            \"\"\").fetchall()\n",
    "    distance = list(zip(*tip_distance))[0]\n",
    "    tip = list(zip(*tip_distance))[1]\n",
    "    plt.title(\"Scatter Plot of Tip Amount and Trip Distance\")\n",
    "    plt.scatter(distance, tip)\n",
    "    plt.ylabel(\"Tip Amount($)\")\n",
    "    plt.xlabel(\"Distance (miles)\")\n",
    "    return plt.show()"
   ]
  },
  {
   "cell_type": "code",
   "execution_count": null,
   "metadata": {
    "id": "Z-4-zACPWuox",
    "outputId": "bdbc4dc1-be0c-403a-8dcc-58620836b92f"
   },
   "outputs": [
    {
     "data": {
      "image/png": "[encoded data removed]",
      "text/plain": [
       "<Figure size 432x288 with 1 Axes>"
      ]
     },
     "metadata": {
      "needs_background": "light"
     },
     "output_type": "display_data"
    }
   ],
   "source": [
    "tip_distance()"
   ]
  },
  {
   "cell_type": "markdown",
   "metadata": {
    "id": "BWwL0u6NWuox"
   },
   "source": [
    "### Question 6\n",
    "\n",
    "Create another scatter plot that compares tip amount versus precipitation amount for Yellow Taxi rides. You may remove any outliers how you see fit.\n",
    "\n",
    "### Answer: "
   ]
  },
  {
   "cell_type": "code",
   "execution_count": null,
   "metadata": {
    "id": "4Dx5H-LdWuoy"
   },
   "outputs": [],
   "source": [
    "def tip_precipitation():\n",
    "    precipitation_data = engine.execute(f\"\"\" select strftime(\"%Y-%m-%d %H\",DATE) as Date_hour, HourlyPrecipitation\n",
    "                            from Weather_hourly\n",
    "                            where HourlyPrecipitation<0.5\n",
    "                            \"\"\").fetchall()\n",
    "    Yellow_taxi = engine.execute(f\"\"\" select strftime(\"%Y-%m-%d %H\",tpep_pickup_datetime) as Date_hour, tip_amount\n",
    "                            from Yellow_Taxi\n",
    "                            \"\"\").fetchall()\n",
    "    prec_df = pd.DataFrame(data=precipitation_data, columns=[\"Date_hour\",\"HourlyPrecipitation\"])\n",
    "    Yellow_df = pd.DataFrame(data=Yellow_taxi, columns=[\"Date_hour\",\"tip_amount\"])\n",
    "    df_final = prec_df.merge(Yellow_df.drop_duplicates(subset=[\"Date_hour\"]), how=\"left\", on=\"Date_hour\").dropna()\n",
    "    #plt.NullLocator()\n",
    "    plt.figure(figsize=[10,5], dpi=100)\n",
    "    plt.scatter(df_final[\"HourlyPrecipitation\"],df_final[\"tip_amount\"], color=\"blue\")\n",
    "    plt.xlabel(\"Precipitation Level (Inches)\")\n",
    "    plt.xticks(ticks=[0,10,20, 30, 40, 50])\n",
    "    #plt.gca().xaxis.set_major_locator(ticker.FixedLocator([0,1,5]))\n",
    "    plt.ylabel(\"Tip Amount ($)\")\n",
    "    plt.title(\"Tip Amounts and Precipitation for Yellow Taxi\")\n",
    "    return plt.show()"
   ]
  },
  {
   "cell_type": "code",
   "execution_count": null,
   "metadata": {
    "id": "McBqdhO6Wuoy",
    "outputId": "6dd37b6d-c96c-45b0-f555-01d7ccf224af"
   },
   "outputs": [
    {
     "data": {
      "image/png": "[encoded data removed]",
      "text/plain": [
       "<Figure size 1000x500 with 1 Axes>"
      ]
     },
     "metadata": {
      "needs_background": "light"
     },
     "output_type": "display_data"
    }
   ],
   "source": [
    "tip_precipitation()"
   ]
  },
  {
   "cell_type": "markdown",
   "metadata": {
    "id": "SIuA3_gfWuoy"
   },
   "source": [
    "### Question 7a\n",
    "\n",
    "Compare uber and yellow taxi yearly average fare per mile:\n",
    "\n",
    "### Answer:\n",
    "\n",
    "Observations: \n",
    "\n",
    "* Uber more expensive that taxis\n",
    "* Fares for both vehicles have consistently increased\n",
    "* The price difference between uber and taxi fares seems to increase with time"
   ]
  },
  {
   "cell_type": "code",
   "execution_count": null,
   "metadata": {
    "id": "u_EekMPpWuoy"
   },
   "outputs": [],
   "source": [
    "# Compare yearly average fares (fare/km) for taxi and uber\n",
    "def yellow_uber_fare():\n",
    "    yellow_taxi = engine.execute(f\"\"\" select strftime(\"%Y\",tpep_pickup_datetime) as Year, sum(fare_amount), sum(trip_distance), sum(fare_amount)/sum(trip_distance) \n",
    "                            from Yellow_Taxi\n",
    "                            group by Year\n",
    "                            \"\"\").fetchall()\n",
    "    uber_taxi = engine.execute(f\"\"\" select strftime(\"%Y\",pickup_datetime) as Year, sum(fare_amount), sum(trip_distance), sum(fare_amount)/sum(trip_distance) \n",
    "                        from Uber_new\n",
    "                        group by Year\n",
    "                        \"\"\").fetchall()\n",
    "    years = list(zip(*yellow_taxi))[0]\n",
    "    uber_fare = list(zip(*uber_taxi))[-1]\n",
    "    yellow_fare = list(zip(*yellow_taxi))[-1]\n",
    "    import matplotlib.pyplot as plt\n",
    "    import numpy as np\n",
    "    plt.figure(figsize=[8,5],dpi=100)\n",
    "    x = np.arange(len(years))\n",
    "    w=0.35\n",
    "    plt.bar(x+w/2,uber_fare,w, color=\"black\" ,label=\"Uber\")\n",
    "    plt.bar(x-w/2,yellow_fare,w, color=\"yellow\" ,label=\"Yellow\")\n",
    "    plt.xticks(x, years)\n",
    "    plt.title(\"Uber and Yellow Taxi Yearly Fare/mile\")\n",
    "    plt.xlabel(\"Years\")\n",
    "    plt.ylabel(\"Trip Fare ($/mile)\")\n",
    "    plt.legend()\n",
    "    return plt.show()\n"
   ]
  },
  {
   "cell_type": "code",
   "execution_count": null,
   "metadata": {
    "id": "5RaLbbBBWuoz",
    "outputId": "d326ff21-5983-4f5a-a7f8-1b08b8e6c420"
   },
   "outputs": [
    {
     "data": {
      "image/png": "[encoded data removed]",
      "text/plain": [
       "<Figure size 800x500 with 1 Axes>"
      ]
     },
     "metadata": {
      "needs_background": "light"
     },
     "output_type": "display_data"
    }
   ],
   "source": [
    "yellow_uber_fare()"
   ]
  },
  {
   "cell_type": "markdown",
   "metadata": {
    "id": "gznhU6jPWuoz"
   },
   "source": [
    "### Question 7b\n",
    "\n",
    "Compare the difference in the popularity between yellow taxi and uber during the day:\n",
    "\n",
    "### Answer:\n",
    "\n",
    "Observations: \n",
    "\n",
    "* During afternoon and evening hours yellow taxi is clearly more popular than uber\n",
    "* On the other hand during other hours the popularity alternates  "
   ]
  },
  {
   "cell_type": "code",
   "execution_count": null,
   "metadata": {
    "id": "mLVNv97UWuoz"
   },
   "outputs": [],
   "source": [
    "# Popularity of uber vs taxi throughout the day\n",
    "def popularity_hour():\n",
    "    import matplotlib.pyplot as plt\n",
    "    import numpy as np\n",
    "    yellow_rush_hour = engine.execute(\"\"\"select strftime(\"%H\",tpep_pickup_datetime) as Hours, count(strftime(\"%H\",tpep_pickup_datetime)) as Frequency \n",
    "                            from Yellow_Taxi\n",
    "                            group by Hours\n",
    "                            order by Hours ASC\"\"\").fetchall()\n",
    "    uber_rush_hour = engine.execute(\"\"\"select strftime(\"%H\",pickup_datetime) as Hours, count(strftime(\"%H\",pickup_datetime)) as Frequency \n",
    "                        from Uber_new\n",
    "                        group by Hours\n",
    "                        order by Hours ASC\"\"\").fetchall()\n",
    "    w=0.35\n",
    "\n",
    "    hour = [f\"{i[0]}:00\" for i in yellow_rush_hour]\n",
    "    x = np.arange(len(hour))\n",
    "    trips_y = [i[1] for i in yellow_rush_hour]\n",
    "    trips_u = [i[1] for i in uber_rush_hour]\n",
    "    y_data = np.array(trips_y)-np.array(trips_u)\n",
    "    plt.figure(figsize=[15,8], dpi=100)\n",
    "    plt.bar(x, y_data, w, color=(pd.Series(data=y_data)>0).map({True:\"yellow\", False:\"black\"}))\n",
    "    plt.xlabel(\"Hour of the Day\")\n",
    "    plt.ylabel(\"Difference in Number of Trips\")\n",
    "    plt.xticks(x, hour)\n",
    "    plt.title(\"Difference in Yellow Taxi and Uber Trips during the Day\")\n",
    "    return plt.show()"
   ]
  },
  {
   "cell_type": "code",
   "execution_count": null,
   "metadata": {
    "id": "i6q-LHWkWuoz",
    "outputId": "37efbead-56e4-4d5f-c31a-2c924b4993ca"
   },
   "outputs": [
    {
     "data": {
      "image/png": "[encoded data removed]",
      "text/plain": [
       "<Figure size 1500x800 with 1 Axes>"
      ]
     },
     "metadata": {
      "needs_background": "light"
     },
     "output_type": "display_data"
    }
   ],
   "source": [
    "popularity_hour()"
   ]
  },
  {
   "cell_type": "markdown",
   "metadata": {
    "id": "Lf_OwnAqWuoz"
   },
   "source": [
    "### Question 7c\n",
    "\n",
    "Compare uber and yellow taxi fare prices for different amount of rain. \n",
    "\n",
    "### Answer:\n",
    "\n",
    "Note:\n",
    "* Rain is classified in light (< 0.01 inches) , moderate ( <0.3) and heavy(>0.3)\n",
    "\n",
    "Observations: \n",
    "\n",
    "* There are not significant difference in the fare prices due to the rain, hence we can conclude that uber and taxi pricing is not a function of weather.\n",
    "* Although, the small difference in the fares could possible be because of the decrease in demand as rain increases.  \n",
    "* Uber price increases for high demand and decreases in lower demand"
   ]
  },
  {
   "cell_type": "code",
   "execution_count": null,
   "metadata": {
    "id": "-5C27upFWuo0"
   },
   "outputs": [],
   "source": [
    "# Get daily average precipitation and classify into moderate, light and heavy\n",
    "def rain_yellow_uber():\n",
    "    import pandas as pd\n",
    "    precipitation_data= engine.execute(\"\"\"select strftime(\"%Y-%m-%d\",DATE) as Date, avg(HourlyPrecipitation) as Precipitation \n",
    "                            from Weather_hourly\n",
    "                            group by strftime(\"%Y-%m-%d\",DATE)\"\"\").fetchall()\n",
    "    prec_df = pd.DataFrame(data=precipitation_data, columns=[\"Date\",\"Precipitaion\"])\n",
    "    prec_df[\"Rain\"] = pd.cut(prec_df[\"Precipitaion\"], bins=[0,0.01,0.3,10], labels=[\"light\",\"moderate\",\"heavy\"])\n",
    "    yellow_taxi = engine.execute(f\"\"\" select strftime(\"%Y-%m-%d\",tpep_pickup_datetime) as Day, sum(fare_amount)/sum(trip_distance) \n",
    "                                from Yellow_Taxi\n",
    "                                group by Day\n",
    "                                \"\"\").fetchall()\n",
    "    uber_taxi = engine.execute(f\"\"\" select strftime(\"%Y-%m-%d\",pickup_datetime) as Day, sum(fare_amount)/sum(trip_distance) \n",
    "                            from Uber_new\n",
    "                            group by Day\n",
    "                            \"\"\").fetchall()\n",
    "    yellow_df = pd.DataFrame(data=yellow_taxi,columns=[\"Date\",\"Yellow_Fare/mile\"])\n",
    "    uber_df = pd.DataFrame(data=uber_taxi,columns=[\"Date\",\"Uber_Fare/mile\"])\n",
    "    df_1 = prec_df.merge(yellow_df, how=\"left\", on=[\"Date\"])\n",
    "    df_2 = df_1.merge(uber_df, how=\"left\", on=[\"Date\"]).dropna()\n",
    "    df_final = df_2.groupby(\"Rain\").mean()[[\"Yellow_Fare/mile\",\"Uber_Fare/mile\"]]\n",
    "    hour = df_final.index\n",
    "    w= 0.25\n",
    "    x = np.arange(len(hour))\n",
    "    trips_y = df_final[\"Yellow_Fare/mile\"]\n",
    "    trips_u = df_final[\"Uber_Fare/mile\"]\n",
    "    plt.figure(figsize=[10,7], dpi=100)\n",
    "    plt.bar(x+w/2, trips_y, w, color=\"yellow\" ,label=\"Yellow Taxi\")\n",
    "    plt.bar(x-w/2, trips_u, w, color=\"black\",label=\"Uber\")\n",
    "    plt.xlabel(\"Rain Category\")\n",
    "    plt.ylabel(\"Fare per mile\")\n",
    "    plt.plot(x+w/2,df_final[\"Yellow_Fare/mile\"],\"*-\", color=\"black\")\n",
    "    plt.plot(x-w/2,df_final[\"Uber_Fare/mile\"],\"*-\",color=\"yellow\")\n",
    "    plt.xticks(x, hour)\n",
    "    plt.ylim([3,6])\n",
    "    plt.title(\"Fare per mile for varying rain intensity\")\n",
    "    plt.legend()\n",
    "    return plt.show()\n"
   ]
  },
  {
   "cell_type": "code",
   "execution_count": null,
   "metadata": {
    "id": "jmuYie7AWuo0",
    "outputId": "93dce645-8317-44a0-90cd-7081a992d4e3"
   },
   "outputs": [
    {
     "data": {
      "image/png": "[encoded data removed]",
      "text/plain": [
       "<Figure size 1000x700 with 1 Axes>"
      ]
     },
     "metadata": {
      "needs_background": "light"
     },
     "output_type": "display_data"
    }
   ],
   "source": [
    "rain_yellow_uber()"
   ]
  },
  {
   "cell_type": "code",
   "execution_count": null,
   "metadata": {
    "id": "AgzSJ-y1Wuo0"
   },
   "outputs": [],
   "source": []
  }
 ],
 "metadata": {
  "colab": {
   "name": "Complete Project Markdown .ipynb",
   "provenance": []
  },
  "kernelspec": {
   "display_name": "Python 3",
   "language": "python",
   "name": "python3"
  },
  "language_info": {
   "codemirror_mode": {
    "name": "ipython",
    "version": 3
   },
   "file_extension": ".py",
   "mimetype": "text/x-python",
   "name": "python",
   "nbconvert_exporter": "python",
   "pygments_lexer": "ipython3",
   "version": "3.8.5"
  }
 },
 "nbformat": 4,
 "nbformat_minor": 1
}
