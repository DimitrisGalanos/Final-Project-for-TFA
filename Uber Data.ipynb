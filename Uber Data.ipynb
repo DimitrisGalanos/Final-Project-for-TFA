{
 "cells": [
  {
   "cell_type": "markdown",
   "id": "bc2e1bf2",
   "metadata": {},
   "source": [
    "# Uber Data \n",
    "\n",
    "\n",
    "This part of the report refers to the analysis of the uber data. These data include a sample of Uber rides from 01-2009 through 06-2015."
   ]
  },
  {
   "cell_type": "markdown",
   "id": "ebdef7b3",
   "metadata": {},
   "source": [
    "## Importing the Uber data\n",
    "\n",
    "The following cell illustrates the import of the uber data in the Jupiter Notebook. "
   ]
  },
  {
   "cell_type": "code",
   "execution_count": 1,
   "id": "05eb6c06",
   "metadata": {},
   "outputs": [],
   "source": [
    "import pandas as pd\n",
    "import numpy as np\n",
    "from sqlalchemy import create_engine"
   ]
  },
  {
   "cell_type": "code",
   "execution_count": 2,
   "id": "886b0c23",
   "metadata": {},
   "outputs": [],
   "source": [
    "uber_df = pd.read_csv(\"C:/Users/Dimitris/Downloads/uber_rides_sample.csv\")"
   ]
  },
  {
   "cell_type": "markdown",
   "id": "328e9b6e",
   "metadata": {},
   "source": [
    "## Filtering for longitude and latitude \n",
    "\n",
    "The cell bellow allows the filtering of the data by removing from the dataset the data that are not within the pre-specified longitude and latitude coordinates"
   ]
  },
  {
   "cell_type": "code",
   "execution_count": 3,
   "id": "4f3da66f",
   "metadata": {},
   "outputs": [],
   "source": [
    "filter_df = uber_df[(uber_df[\"pickup_longitude\"]< -73.717047)&(uber_df[\"pickup_longitude\"]> -74.242330)&\n",
    "        (uber_df[\"dropoff_longitude\"]< -73.717047)&(uber_df[\"dropoff_longitude\"]> -74.242330)&\n",
    "       (uber_df[\"pickup_latitude\"]< 40.908524 )&(uber_df[\"pickup_latitude\"]> 40.560445)&\n",
    "        (uber_df[\"dropoff_latitude\"]< 40.908524)&(uber_df[\"dropoff_latitude\"]> 40.560445)].copy()"
   ]
  },
  {
   "cell_type": "markdown",
   "id": "a7e8d87b",
   "metadata": {},
   "source": [
    "## Cleaning the data\n",
    "\n",
    "In the cell bellow, the data in the uber_final database are filtered to remove the unessesary collumns that don't contain any usefull information. This filtering of the data is performed with the .drop() function"
   ]
  },
  {
   "cell_type": "code",
   "execution_count": 4,
   "id": "eda37f87",
   "metadata": {},
   "outputs": [],
   "source": [
    "uber_final_df = filter_df.drop(columns = [\"Unnamed: 0\",\"key\"])\n",
    "uber_final_df = uber_final_df.reset_index()\n",
    "uber_final = uber_final_df.drop(columns=[\"index\"])"
   ]
  },
  {
   "cell_type": "markdown",
   "id": "50107844",
   "metadata": {},
   "source": [
    "Similarly, the .strip function is used to remove the \"UTC\" characters from the datetime collumn, and allow the manipulation of the data. "
   ]
  },
  {
   "cell_type": "code",
   "execution_count": 5,
   "id": "2bafb150",
   "metadata": {},
   "outputs": [],
   "source": [
    "uber_final[\"pickup_datetime\"] = [str(i).strip(\"UTC\") for i in uber_final[\"pickup_datetime\"]]"
   ]
  },
  {
   "cell_type": "markdown",
   "id": "f5b5d15b",
   "metadata": {},
   "source": [
    "## Manipulating the date\n",
    "\n",
    "Now we format the date column for future data manipulation based on date. "
   ]
  },
  {
   "cell_type": "code",
   "execution_count": 6,
   "id": "9b413391",
   "metadata": {},
   "outputs": [],
   "source": [
    "uber_final[\"pickup_datetime\"] = pd.to_datetime(uber_final[\"pickup_datetime\"],format='%Y-%m-%d %H:%M:%S')"
   ]
  },
  {
   "cell_type": "markdown",
   "id": "24364dd2",
   "metadata": {},
   "source": [
    "## Calculating the trip distance\n",
    "\n",
    "By observing the data, one can identify that there isn't a data collumn for the trip distance, but rather only the coordinates of the pickup and dropoff. To allow the comparison of the data, the distance needs to be calculated. \n",
    "To convert the lat and long data to distance, the following formula is used.\n",
    "\n",
    "* Distance, d = 3963.0 * arccos[(sin(lat-pickup) * sin(lat-dropoff)) + cos(lat-pickup) * cos(lat-dropoff) * cos(long-dropoff – long-pickup)]\n",
    "* Where the data for lat and long need to be converted in radians, by multiplying each number by pi/180.\n",
    "\n",
    "Consequently, the calulcation of the distance can be seen in the code bellow:\n",
    "\n",
    "----------------\n",
    "\n",
    "Additionally, observing the second to last line of code, it can be seen that a new collumn is created in the database called \"trip_distance\"\n"
   ]
  },
  {
   "cell_type": "code",
   "execution_count": 7,
   "id": "62332477",
   "metadata": {},
   "outputs": [],
   "source": [
    "def distance_calc(df):\n",
    "    import math\n",
    "    rad_pick_long = df[\"pickup_longitude\"]*math.pi/180\n",
    "    rad_pick_lat = df[\"pickup_latitude\"]*math.pi/180\n",
    "    rad_drop_long = df[\"dropoff_longitude\"]*math.pi/180\n",
    "    rad_drop_lat = df[\"dropoff_latitude\"]*math.pi/180\n",
    "    \n",
    "    dist_list = []\n",
    "    for i in range(len(df)):\n",
    "        try:\n",
    "            distance = 3963*math.acos((math.sin(rad_pick_lat[i])*math.sin(rad_drop_lat[i]))+math.cos(rad_pick_lat[i])*math.cos(rad_drop_lat[i])*math.cos(rad_drop_long[i]-rad_pick_long[i]))\n",
    "            dist_list.append(distance)\n",
    "        except:\n",
    "            dist_list.append(0)\n",
    "            continue\n",
    "    df[\"trip_distance\"] = dist_list\n",
    "    return df"
   ]
  },
  {
   "cell_type": "code",
   "execution_count": 8,
   "id": "e82d9aa9",
   "metadata": {},
   "outputs": [
    {
     "data": {
      "text/html": [
       "<div>\n",
       "<style scoped>\n",
       "    .dataframe tbody tr th:only-of-type {\n",
       "        vertical-align: middle;\n",
       "    }\n",
       "\n",
       "    .dataframe tbody tr th {\n",
       "        vertical-align: top;\n",
       "    }\n",
       "\n",
       "    .dataframe thead th {\n",
       "        text-align: right;\n",
       "    }\n",
       "</style>\n",
       "<table border=\"1\" class=\"dataframe\">\n",
       "  <thead>\n",
       "    <tr style=\"text-align: right;\">\n",
       "      <th></th>\n",
       "      <th>fare_amount</th>\n",
       "      <th>pickup_datetime</th>\n",
       "      <th>pickup_longitude</th>\n",
       "      <th>pickup_latitude</th>\n",
       "      <th>dropoff_longitude</th>\n",
       "      <th>dropoff_latitude</th>\n",
       "      <th>passenger_count</th>\n",
       "      <th>trip_distance</th>\n",
       "    </tr>\n",
       "  </thead>\n",
       "  <tbody>\n",
       "    <tr>\n",
       "      <th>0</th>\n",
       "      <td>7.5</td>\n",
       "      <td>2015-05-07 19:52:06</td>\n",
       "      <td>-73.999817</td>\n",
       "      <td>40.738354</td>\n",
       "      <td>-73.999512</td>\n",
       "      <td>40.723217</td>\n",
       "      <td>1</td>\n",
       "      <td>1.047090</td>\n",
       "    </tr>\n",
       "    <tr>\n",
       "      <th>1</th>\n",
       "      <td>7.7</td>\n",
       "      <td>2009-07-17 20:04:56</td>\n",
       "      <td>-73.994355</td>\n",
       "      <td>40.728225</td>\n",
       "      <td>-73.994710</td>\n",
       "      <td>40.750325</td>\n",
       "      <td>1</td>\n",
       "      <td>1.528713</td>\n",
       "    </tr>\n",
       "    <tr>\n",
       "      <th>2</th>\n",
       "      <td>12.9</td>\n",
       "      <td>2009-08-24 21:45:00</td>\n",
       "      <td>-74.005043</td>\n",
       "      <td>40.740770</td>\n",
       "      <td>-73.962565</td>\n",
       "      <td>40.772647</td>\n",
       "      <td>1</td>\n",
       "      <td>3.132815</td>\n",
       "    </tr>\n",
       "    <tr>\n",
       "      <th>3</th>\n",
       "      <td>5.3</td>\n",
       "      <td>2009-06-26 08:22:21</td>\n",
       "      <td>-73.976124</td>\n",
       "      <td>40.790844</td>\n",
       "      <td>-73.965316</td>\n",
       "      <td>40.803349</td>\n",
       "      <td>3</td>\n",
       "      <td>1.033629</td>\n",
       "    </tr>\n",
       "    <tr>\n",
       "      <th>4</th>\n",
       "      <td>16.0</td>\n",
       "      <td>2014-08-28 17:47:00</td>\n",
       "      <td>-73.925023</td>\n",
       "      <td>40.744085</td>\n",
       "      <td>-73.973082</td>\n",
       "      <td>40.761247</td>\n",
       "      <td>5</td>\n",
       "      <td>2.783897</td>\n",
       "    </tr>\n",
       "    <tr>\n",
       "      <th>...</th>\n",
       "      <td>...</td>\n",
       "      <td>...</td>\n",
       "      <td>...</td>\n",
       "      <td>...</td>\n",
       "      <td>...</td>\n",
       "      <td>...</td>\n",
       "      <td>...</td>\n",
       "      <td>...</td>\n",
       "    </tr>\n",
       "    <tr>\n",
       "      <th>195467</th>\n",
       "      <td>3.0</td>\n",
       "      <td>2012-10-28 10:49:00</td>\n",
       "      <td>-73.987042</td>\n",
       "      <td>40.739367</td>\n",
       "      <td>-73.986525</td>\n",
       "      <td>40.740297</td>\n",
       "      <td>1</td>\n",
       "      <td>0.069799</td>\n",
       "    </tr>\n",
       "    <tr>\n",
       "      <th>195468</th>\n",
       "      <td>7.5</td>\n",
       "      <td>2014-03-14 01:09:00</td>\n",
       "      <td>-73.984722</td>\n",
       "      <td>40.736837</td>\n",
       "      <td>-74.006672</td>\n",
       "      <td>40.739620</td>\n",
       "      <td>1</td>\n",
       "      <td>1.166351</td>\n",
       "    </tr>\n",
       "    <tr>\n",
       "      <th>195469</th>\n",
       "      <td>30.9</td>\n",
       "      <td>2009-06-29 00:42:00</td>\n",
       "      <td>-73.986017</td>\n",
       "      <td>40.756487</td>\n",
       "      <td>-73.858957</td>\n",
       "      <td>40.692588</td>\n",
       "      <td>2</td>\n",
       "      <td>7.993379</td>\n",
       "    </tr>\n",
       "    <tr>\n",
       "      <th>195470</th>\n",
       "      <td>14.5</td>\n",
       "      <td>2015-05-20 14:56:25</td>\n",
       "      <td>-73.997124</td>\n",
       "      <td>40.725452</td>\n",
       "      <td>-73.983215</td>\n",
       "      <td>40.695415</td>\n",
       "      <td>1</td>\n",
       "      <td>2.201835</td>\n",
       "    </tr>\n",
       "    <tr>\n",
       "      <th>195471</th>\n",
       "      <td>14.1</td>\n",
       "      <td>2010-05-15 04:08:00</td>\n",
       "      <td>-73.984395</td>\n",
       "      <td>40.720077</td>\n",
       "      <td>-73.985508</td>\n",
       "      <td>40.768793</td>\n",
       "      <td>1</td>\n",
       "      <td>3.370064</td>\n",
       "    </tr>\n",
       "  </tbody>\n",
       "</table>\n",
       "<p>195472 rows × 8 columns</p>\n",
       "</div>"
      ],
      "text/plain": [
       "        fare_amount     pickup_datetime  pickup_longitude  pickup_latitude  \\\n",
       "0               7.5 2015-05-07 19:52:06        -73.999817        40.738354   \n",
       "1               7.7 2009-07-17 20:04:56        -73.994355        40.728225   \n",
       "2              12.9 2009-08-24 21:45:00        -74.005043        40.740770   \n",
       "3               5.3 2009-06-26 08:22:21        -73.976124        40.790844   \n",
       "4              16.0 2014-08-28 17:47:00        -73.925023        40.744085   \n",
       "...             ...                 ...               ...              ...   \n",
       "195467          3.0 2012-10-28 10:49:00        -73.987042        40.739367   \n",
       "195468          7.5 2014-03-14 01:09:00        -73.984722        40.736837   \n",
       "195469         30.9 2009-06-29 00:42:00        -73.986017        40.756487   \n",
       "195470         14.5 2015-05-20 14:56:25        -73.997124        40.725452   \n",
       "195471         14.1 2010-05-15 04:08:00        -73.984395        40.720077   \n",
       "\n",
       "        dropoff_longitude  dropoff_latitude  passenger_count  trip_distance  \n",
       "0              -73.999512         40.723217                1       1.047090  \n",
       "1              -73.994710         40.750325                1       1.528713  \n",
       "2              -73.962565         40.772647                1       3.132815  \n",
       "3              -73.965316         40.803349                3       1.033629  \n",
       "4              -73.973082         40.761247                5       2.783897  \n",
       "...                   ...               ...              ...            ...  \n",
       "195467         -73.986525         40.740297                1       0.069799  \n",
       "195468         -74.006672         40.739620                1       1.166351  \n",
       "195469         -73.858957         40.692588                2       7.993379  \n",
       "195470         -73.983215         40.695415                1       2.201835  \n",
       "195471         -73.985508         40.768793                1       3.370064  \n",
       "\n",
       "[195472 rows x 8 columns]"
      ]
     },
     "execution_count": 8,
     "metadata": {},
     "output_type": "execute_result"
    }
   ],
   "source": [
    "distance_calc(uber_final)"
   ]
  },
  {
   "cell_type": "markdown",
   "id": "c2400803",
   "metadata": {},
   "source": [
    "## Appending to the distance collumn \n",
    "\n",
    "By observing the data it could be seen that some trips were round trips having the same pick up and dropoff coordinates. Consequently, the total cumulative distance for those trips could not be calculated with the data give. \n",
    "The code in the cell bellow selects and appends to the \"trip_distance\" collumn in the uber_final dataset, the particular rows where the total trip distance is not 0"
   ]
  },
  {
   "cell_type": "code",
   "execution_count": 9,
   "id": "2f88ae29",
   "metadata": {},
   "outputs": [],
   "source": [
    "uber_new = uber_final[(uber_final[\"trip_distance\"]!=0)]"
   ]
  },
  {
   "cell_type": "markdown",
   "id": "3ccb907e",
   "metadata": {},
   "source": [
    "## Converting Pandas dataframe to SQL Table \n",
    "\n",
    "Here, the processed panda dataframe for all the uber data is converted into a SQL Table and consequently saved as a table, Uber_new to an SQL Database named project.db\n"
   ]
  },
  {
   "cell_type": "code",
   "execution_count": null,
   "id": "85cedb6d",
   "metadata": {},
   "outputs": [],
   "source": [
    "engine = create_engine('sqlite:////Users/rishabhsalwan/Downloads/Project Data/Project.db', echo=False)\n",
    "uber_new.to_sql('Uber_new', con=engine)"
   ]
  },
  {
   "cell_type": "code",
   "execution_count": null,
   "id": "49fcd1b4",
   "metadata": {},
   "outputs": [],
   "source": []
  }
 ],
 "metadata": {
  "kernelspec": {
   "display_name": "Python 3",
   "language": "python",
   "name": "python3"
  },
  "language_info": {
   "codemirror_mode": {
    "name": "ipython",
    "version": 3
   },
   "file_extension": ".py",
   "mimetype": "text/x-python",
   "name": "python",
   "nbconvert_exporter": "python",
   "pygments_lexer": "ipython3",
   "version": "3.8.8"
  }
 },
 "nbformat": 4,
 "nbformat_minor": 5
}
